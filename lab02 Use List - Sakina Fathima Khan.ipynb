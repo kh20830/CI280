{
 "cells": [
  {
   "cell_type": "markdown",
   "metadata": {},
   "source": [
    "# CI280 Lab02 – List\n",
    "Upload your answer to GitHub\n",
    "Email the link to: jzhang@eastwest.edu\n",
    "\n",
    "Name: Sakina Fathima Khan"
   ]
  },
  {
   "cell_type": "markdown",
   "metadata": {},
   "source": [
    "# A. Show the output: ( 10 pts)"
   ]
  },
  {
   "cell_type": "code",
   "execution_count": null,
   "metadata": {},
   "outputs": [],
   "source": [
    "numbers = [50, 20, 10, 80, 10]\n",
    "print(numbers)\n",
    "print(numbers[2])"
   ]
  },
  {
   "cell_type": "code",
   "execution_count": null,
   "metadata": {},
   "outputs": [],
   "source": [
    "max_value = max(numbers)\n",
    "max_index = numbers.index(max_value)\n",
    "print('min = ', max_value)\n",
    "print(max_index)"
   ]
  },
  {
   "cell_type": "code",
   "execution_count": null,
   "metadata": {},
   "outputs": [],
   "source": [
    "min_value = min(numbers)\n",
    "min_index = numbers.index(min_value)\n",
    "print('min = ',min_value)\n",
    "print(min_index)"
   ]
  },
  {
   "cell_type": "code",
   "execution_count": null,
   "metadata": {},
   "outputs": [],
   "source": [
    "print('length =', len(numbers))\n",
    "print('element = ', numbers[len(numbers)-1])"
   ]
  },
  {
   "cell_type": "markdown",
   "metadata": {},
   "source": [
    "# 2) ( 2 pts)"
   ]
  },
  {
   "cell_type": "code",
   "execution_count": null,
   "metadata": {},
   "outputs": [],
   "source": [
    "names = ['Steven', 'Will', 'Alicia']\n",
    "print(names)\n",
    "\n",
    "print('-----')\n",
    "for name in names:\n",
    "    print(name)\n",
    "    \n",
    "print('-----')\n",
    "index = 2\n",
    "while index < len(names):\n",
    "    print(names[index])\n",
    "    index +=1"
   ]
  },
  {
   "cell_type": "markdown",
   "metadata": {},
   "source": [
    "# 3) ( 2 pts)"
   ]
  },
  {
   "cell_type": "code",
   "execution_count": null,
   "metadata": {},
   "outputs": [],
   "source": [
    "num1 = list(range(0, 20, 5))\n",
    "print(num1)\n",
    "\n",
    "num2 = num1 * 3\n",
    "print(num2)\n",
    "\n",
    "index = 0\n",
    "while index < len(num1):\n",
    "    num1[index] = num1[index] * 3\n",
    "    index += 1\n",
    "print(num1)\n",
    "\n",
    "print(sum(num1))\n",
    "print(sum(num1)/len(num1))"
   ]
  },
  {
   "cell_type": "markdown",
   "metadata": {},
   "source": [
    "# 4) List Slicing (2 pts)"
   ]
  },
  {
   "cell_type": "code",
   "execution_count": null,
   "metadata": {},
   "outputs": [],
   "source": [
    "numbers = list(range(0, 101, 10))\n",
    "print(numbers)\n",
    "\n",
    "print(numbers[:5])\n",
    "print(numbers[2:5])\n",
    "print(numbers[7:])\n",
    "print(numbers[-3:])"
   ]
  },
  {
   "cell_type": "markdown",
   "metadata": {},
   "source": [
    "# 5) Commonly used method (2 pts)"
   ]
  },
  {
   "cell_type": "code",
   "execution_count": null,
   "metadata": {},
   "outputs": [],
   "source": [
    "cities = ['Chicago', 'Paris']\n",
    "print(cities)\n",
    "\n",
    "city_index = cities.index('Paris')\n",
    "print(city_index)\n",
    "\n",
    "cities.insert(1, 'New York')\n",
    "print(cities)\n",
    "\n",
    "cities.reverse()\n",
    "print(cities)\n",
    "\n",
    "cities.sort()\n",
    "print(cities)\n",
    "\n",
    "cities.remove('New York')\n",
    "print(cities)"
   ]
  },
  {
   "cell_type": "markdown",
   "metadata": {},
   "source": [
    "# B. Write a program. ( 10 pts)"
   ]
  },
  {
   "cell_type": "markdown",
   "metadata": {},
   "source": [
    "B. Write a program. ( 10 pts)\n",
    "The amounts daily sales of one week is stored in a list. \n",
    "#1) Write a program that asks the user to enter a store’s sales for each day of the week. \n",
    "#2) Display the sales for each week day. \n",
    "#3) Display Sales summary: total sales, average sales, highest and lowest sales. (4 pts)\n"
   ]
  },
  {
   "cell_type": "code",
   "execution_count": 5,
   "metadata": {},
   "outputs": [
    {
     "name": "stdout",
     "output_type": "stream",
     "text": [
      "Enter the sales for Sunday:100\n",
      "Enter the sales for Monday:200\n",
      "Enter the sales for Tuesday:300\n",
      "Enter the sales for Wednsday:200\n",
      "Enter the sales for Thursday:250\n",
      "Enter the sales for Friday:250\n",
      "Enter the sales for Saturday:300\n",
      "Weekly Sales\n",
      "------------------------\n",
      "Sunday :$ 100.00\n",
      "Monday :$ 200.00\n",
      "Tuesday :$ 300.00\n",
      "Wednsday :$ 200.00\n",
      "Thursday :$ 250.00\n",
      "Friday :$ 250.00\n",
      "Saturday :$ 300.00\n",
      "\n",
      "Weekly Sales Summary\n",
      "------------------------------\n",
      "Total Sales: $ 1,600.00\n",
      "Average Sales: $ 228.57\n",
      "The highest sales is in Tuesday :$ 300.00\n",
      "The lowest sales is in Sunday :$ 100.00\n"
     ]
    }
   ],
   "source": [
    "#Variables\n",
    "total_sales = 0.0\n",
    "days = 7\n",
    "\n",
    "#Initialize lists\n",
    "daily_sales = [0.0]* days\n",
    "days_of_week = ['Sunday', 'Monday', 'Tuesday', 'Wednsday', 'Thursday', 'Friday', 'Saturday']\n",
    "\n",
    "for i in range(7):\n",
    "    daily_sales[i] = float(input(\"Enter the sales for \" + days_of_week[i] + ':'))\n",
    "    \n",
    "print ('Weekly Sales')\n",
    "print('------------------------')\n",
    "index = 0\n",
    "for index in range(7):\n",
    "    print(days_of_week[index], ':$', format(daily_sales[index], ',.2f'))\n",
    "    \n",
    "for number in daily_sales:\n",
    "    total_sales += number\n",
    "\n",
    "highest = max(daily_sales)\n",
    "max_index = daily_sales.index(highest)\n",
    "\n",
    "lowest = min(daily_sales)\n",
    "min_index = daily_sales.index(lowest)\n",
    "        \n",
    "avg_sales = sum(daily_sales)/len(daily_sales)\n",
    "\n",
    "#display summary sales\n",
    "print('\\nWeekly Sales Summary')\n",
    "print('------------------------------')\n",
    "print('Total Sales: $', format(total_sales, ',.2f'))\n",
    "print('Average Sales: $', format(avg_sales, ',.2f'))\n",
    "print('The highest sales is in', days_of_week[max_index], ':$', format(highest, ',.2f'))\n",
    "print('The lowest sales is in', days_of_week[min_index], ':$', format(lowest, ',.2f'))"
   ]
  },
  {
   "cell_type": "code",
   "execution_count": null,
   "metadata": {},
   "outputs": [],
   "source": []
  },
  {
   "cell_type": "code",
   "execution_count": null,
   "metadata": {},
   "outputs": [],
   "source": [
    "\n"
   ]
  },
  {
   "cell_type": "code",
   "execution_count": null,
   "metadata": {},
   "outputs": [],
   "source": []
  },
  {
   "cell_type": "code",
   "execution_count": null,
   "metadata": {},
   "outputs": [],
   "source": []
  },
  {
   "cell_type": "code",
   "execution_count": null,
   "metadata": {},
   "outputs": [],
   "source": []
  }
 ],
 "metadata": {
  "kernelspec": {
   "display_name": "Python 3",
   "language": "python",
   "name": "python3"
  },
  "language_info": {
   "codemirror_mode": {
    "name": "ipython",
    "version": 3
   },
   "file_extension": ".py",
   "mimetype": "text/x-python",
   "name": "python",
   "nbconvert_exporter": "python",
   "pygments_lexer": "ipython3",
   "version": "3.7.6"
  }
 },
 "nbformat": 4,
 "nbformat_minor": 4
}
