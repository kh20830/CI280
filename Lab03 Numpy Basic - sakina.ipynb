{
 "cells": [
  {
   "cell_type": "code",
   "execution_count": null,
   "metadata": {},
   "outputs": [],
   "source": [
    "# Lab03 Numpy Basics"
   ]
  },
  {
   "cell_type": "code",
   "execution_count": 1,
   "metadata": {},
   "outputs": [
    {
     "name": "stdout",
     "output_type": "stream",
     "text": [
      "[ 0  1  2  3  4  5  6  7  8  9 10 11]\n"
     ]
    }
   ],
   "source": [
    "# NumPy Basics\n",
    "import numpy as np\n",
    "\n",
    "s = np.arange(12)\n",
    "print(s)"
   ]
  },
  {
   "cell_type": "code",
   "execution_count": 4,
   "metadata": {},
   "outputs": [
    {
     "data": {
      "text/plain": [
       "array([ 0,  1,  2,  3,  4,  5,  6,  7,  8,  9, 10, 11])"
      ]
     },
     "execution_count": 4,
     "metadata": {},
     "output_type": "execute_result"
    }
   ],
   "source": [
    "# 1) Show all element of s\n",
    "s"
   ]
  },
  {
   "cell_type": "code",
   "execution_count": 3,
   "metadata": {},
   "outputs": [
    {
     "name": "stdout",
     "output_type": "stream",
     "text": [
      "2\n",
      "11\n"
     ]
    }
   ],
   "source": [
    "# 2) Show the third element of s\n",
    "print(s[2])\n",
    "\n",
    "# 2) Show the last element of s\n",
    "print(s[-1])"
   ]
  },
  {
   "cell_type": "code",
   "execution_count": 5,
   "metadata": {},
   "outputs": [
    {
     "name": "stdout",
     "output_type": "stream",
     "text": [
      "[ 2  3  4  5  6  7  8  9 10 11]\n",
      "[2 3 4 5 6]\n"
     ]
    }
   ],
   "source": [
    "# 3) Show the third to last element of s\n",
    "print(s[2:])\n",
    "\n",
    "# Show the third to seventh element of s\n",
    "print(s[2:7])"
   ]
  },
  {
   "cell_type": "code",
   "execution_count": 6,
   "metadata": {},
   "outputs": [
    {
     "name": "stdout",
     "output_type": "stream",
     "text": [
      "66\n",
      "0\n",
      "5.5\n",
      "11\n"
     ]
    }
   ],
   "source": [
    "\n",
    "# 4) Show the total of s\n",
    "print(sum(s))\n",
    "\n",
    "# Show the smallest value of s\n",
    "print(s.min())\n",
    "\n",
    "# Show the average value of s\n",
    "print(s.mean())\n",
    "\n",
    "# Show the largest value of s\n",
    "print(s.max())"
   ]
  },
  {
   "cell_type": "code",
   "execution_count": 8,
   "metadata": {},
   "outputs": [
    {
     "name": "stdout",
     "output_type": "stream",
     "text": [
      "[ 0 -1  2  3  4  5  6  7  8  9 10 11]\n",
      "[ 0 -1  2  3  4  5  6  7  8  9 10 11]\n"
     ]
    }
   ],
   "source": [
    "# 5) if array change values, will s change values too? why?\n",
    "# show s values\n",
    "arry = s\n",
    "arry[1]= -1\n",
    "print(s)\n",
    "print(arry)"
   ]
  },
  {
   "cell_type": "code",
   "execution_count": 9,
   "metadata": {},
   "outputs": [
    {
     "name": "stdout",
     "output_type": "stream",
     "text": [
      "[[1, 2, 3], [4, 5, 6], [7, 8, 9]]\n"
     ]
    }
   ],
   "source": [
    "data = [[1,2,3],\n",
    "        [4,5,6],\n",
    "        [7,8,9]]\n",
    "print(data)"
   ]
  },
  {
   "cell_type": "code",
   "execution_count": 10,
   "metadata": {},
   "outputs": [
    {
     "name": "stdout",
     "output_type": "stream",
     "text": [
      "[[1 2 3]\n",
      " [4 5 6]\n",
      " [7 8 9]]\n"
     ]
    }
   ],
   "source": [
    "matrix = np.array(data)\n",
    "print(matrix)"
   ]
  },
  {
   "cell_type": "code",
   "execution_count": 13,
   "metadata": {},
   "outputs": [
    {
     "name": "stdout",
     "output_type": "stream",
     "text": [
      "2\n",
      "4\n"
     ]
    }
   ],
   "source": [
    "# 6)Show the element of first row of second col of matrix\n",
    "print(matrix[0,1])\n",
    "\n",
    "# 6)Show the element of second row of first col of matrix\n",
    "print(matrix[1,0])"
   ]
  },
  {
   "cell_type": "code",
   "execution_count": 21,
   "metadata": {},
   "outputs": [
    {
     "name": "stdout",
     "output_type": "stream",
     "text": [
      "[1 2 3]\n",
      "----------\n",
      "[4 5 6]\n",
      "----------\n",
      "[7 8 9]\n",
      "-----------\n"
     ]
    }
   ],
   "source": [
    "# 7 )Show all elements of first row in matrix\n",
    "print(matrix[0])\n",
    "print('----------')\n",
    "#  Show all elements of second row in matrix\n",
    "print(matrix[1])\n",
    "print('----------')\n",
    "# Show all elements of last row in matrix\n",
    "print(matrix[2])\n",
    "print('-----------')"
   ]
  },
  {
   "cell_type": "code",
   "execution_count": 26,
   "metadata": {},
   "outputs": [
    {
     "name": "stdout",
     "output_type": "stream",
     "text": [
      "[1 4 7]\n",
      "-----------\n",
      "[3 6 9]\n",
      "-----------\n",
      "[3 6 9]\n",
      "-----------\n"
     ]
    }
   ],
   "source": [
    "# 8) Show all elements of first col in matrix\n",
    "print(matrix[:,0])\n",
    "print('-----------')\n",
    "# Show all elements of third col in matrix\n",
    "print(matrix[:,2])\n",
    "print('-----------')\n",
    "# Show all elements of last col in matrix\n",
    "print(matrix[:,-1])\n",
    "print('-----------')"
   ]
  },
  {
   "cell_type": "code",
   "execution_count": 27,
   "metadata": {},
   "outputs": [
    {
     "name": "stdout",
     "output_type": "stream",
     "text": [
      "[[1 2 3]\n",
      " [4 5 6]\n",
      " [7 8 9]]\n",
      "[5 6]\n"
     ]
    }
   ],
   "source": [
    "print( matrix)\n",
    "# Show second rows, and second col to last col's elements in matrix\n",
    "\n",
    "print(matrix[1, 1:])"
   ]
  },
  {
   "cell_type": "code",
   "execution_count": 29,
   "metadata": {},
   "outputs": [
    {
     "name": "stdout",
     "output_type": "stream",
     "text": [
      "[[1 2 3]\n",
      " [4 5 6]\n",
      " [7 8 9]]\n",
      "[12 15 18]\n",
      "-----------\n",
      "1\n",
      "-----------\n",
      "5.0\n",
      "-----------\n",
      "9\n",
      "-----------\n",
      "15\n"
     ]
    }
   ],
   "source": [
    "print(matrix)\n",
    "# 9) Show the total of matrix\n",
    "print(sum(matrix))\n",
    "print('-----------')\n",
    "# Show the smallest value of matrix\n",
    "print(matrix.min())\n",
    "print('-----------')\n",
    "# Show the average value of matrix\n",
    "print(matrix.mean())\n",
    "print('-----------')\n",
    "# Show the largest value of matrix\n",
    "print(matrix.max())\n",
    "print('-----------')\n",
    "# The sum of second col\n",
    "print(sum(matrix[:,1]))"
   ]
  },
  {
   "cell_type": "code",
   "execution_count": null,
   "metadata": {},
   "outputs": [],
   "source": []
  }
 ],
 "metadata": {
  "kernelspec": {
   "display_name": "Python 3",
   "language": "python",
   "name": "python3"
  },
  "language_info": {
   "codemirror_mode": {
    "name": "ipython",
    "version": 3
   },
   "file_extension": ".py",
   "mimetype": "text/x-python",
   "name": "python",
   "nbconvert_exporter": "python",
   "pygments_lexer": "ipython3",
   "version": "3.7.6"
  }
 },
 "nbformat": 4,
 "nbformat_minor": 2
}
